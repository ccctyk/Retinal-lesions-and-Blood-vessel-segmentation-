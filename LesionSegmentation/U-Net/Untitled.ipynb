{
 "cells": [
  {
   "cell_type": "code",
   "execution_count": 1,
   "metadata": {},
   "outputs": [],
   "source": [
    "import cv2\n",
    "import os"
   ]
  },
  {
   "cell_type": "code",
   "execution_count": null,
   "metadata": {},
   "outputs": [],
   "source": []
  },
  {
   "cell_type": "code",
   "execution_count": 2,
   "metadata": {},
   "outputs": [],
   "source": [
    "def padding_square(img_path,img_name,new_path):\n",
    "    desired_size = 512\n",
    "    im_pth = img_path +img_name\n",
    "\n",
    "    im = cv2.imread(im_pth)\n",
    "    old_size = im.shape[:2] # old_size is in (height, width) format\n",
    "\n",
    "    ratio = float(desired_size)/max(old_size)\n",
    "    new_size = tuple([int(x*ratio) for x in old_size])\n",
    "\n",
    "    # new_size should be in (width, height) format\n",
    "\n",
    "    im = cv2.resize(im, (new_size[1], new_size[0]))\n",
    "\n",
    "    delta_w = desired_size - new_size[1]\n",
    "    delta_h = desired_size - new_size[0]\n",
    "    top, bottom = delta_h//2, delta_h-(delta_h//2)\n",
    "    left, right = delta_w//2, delta_w-(delta_w//2)\n",
    "\n",
    "    color = [0, 0, 0]\n",
    "    new_im = cv2.copyMakeBorder(im, top, bottom, left, right, cv2.BORDER_CONSTANT,value=color)\n",
    "    \n",
    "    new_path_name = new_path + img_name\n",
    "    #print(new_path_name)\n",
    "    cv2.imwrite(new_path_name,new_im)"
   ]
  },
  {
   "cell_type": "code",
   "execution_count": 3,
   "metadata": {},
   "outputs": [],
   "source": [
    "def padding_all(img_dir_path,new_dir_path):\n",
    "    \n",
    "    \n",
    "    \n",
    "    print(f\"Start path[{img_dir_path}] padding\")\n",
    "    \n",
    "    image_list=os.listdir(img_dir_path)\n",
    "    image_list = sorted(image_list)\n",
    "    \n",
    "    new_path = new_dir_path\n",
    "    \n",
    "    # create the new path\n",
    "    if not os.path.exists(new_path):\n",
    "        os.mkdir(new_path)\n",
    "    \n",
    "    for img_name in image_list:\n",
    "        padding_square(img_dir_path,img_name,new_path)\n",
    "    \n",
    "    print(f\"Finished path[{img_dir_path}] padding\")"
   ]
  },
  {
   "cell_type": "code",
   "execution_count": 4,
   "metadata": {},
   "outputs": [],
   "source": [
    "orig_path = \"data/train/original_retinal_images/\"\n",
    "new_orig_path = \"data/train/new_original_retinal_images/\"\n",
    "\n",
    "hard_path = \"data/train/masks_Hard_Exudates/\"\n",
    "new_hard_path = \"data/train/new_masks_Hard_Exudates/\"\n",
    "\n",
    "micr_path = \"data/train/masks_Microaneurysms/\"\n",
    "new_micr_path = \"data/train/new_masks_Microaneurysms/\"\n",
    "\n",
    "soft_path = \"data/train/masks_Soft_Exudates/\"\n",
    "new_soft_path = \"data/train/new_masks_Soft_Exudates/\"\n",
    "\n",
    "haem_path = \"data/train/masks_Haemorrhages/\"\n",
    "new_haem_path = \"data/train/new_masks_Haemorrhages/\"\n",
    "\n"
   ]
  },
  {
   "cell_type": "code",
   "execution_count": 5,
   "metadata": {},
   "outputs": [
    {
     "name": "stdout",
     "output_type": "stream",
     "text": [
      "Start path[data/train/masks_Hard_Exudates/] padding\n",
      "Finished path[data/train/masks_Hard_Exudates/] padding\n"
     ]
    }
   ],
   "source": [
    "padding_all(hard_path,new_hard_path)"
   ]
  },
  {
   "cell_type": "code",
   "execution_count": 6,
   "metadata": {},
   "outputs": [
    {
     "name": "stderr",
     "output_type": "stream",
     "text": [
      "Using TensorFlow backend.\n",
      "/Users/Luyao/opt/anaconda3/envs/CV/lib/python3.7/site-packages/tensorflow/python/framework/dtypes.py:516: FutureWarning: Passing (type, 1) or '1type' as a synonym of type is deprecated; in a future version of numpy, it will be understood as (type, (1,)) / '(1,)type'.\n",
      "  _np_qint8 = np.dtype([(\"qint8\", np.int8, 1)])\n",
      "/Users/Luyao/opt/anaconda3/envs/CV/lib/python3.7/site-packages/tensorflow/python/framework/dtypes.py:517: FutureWarning: Passing (type, 1) or '1type' as a synonym of type is deprecated; in a future version of numpy, it will be understood as (type, (1,)) / '(1,)type'.\n",
      "  _np_quint8 = np.dtype([(\"quint8\", np.uint8, 1)])\n",
      "/Users/Luyao/opt/anaconda3/envs/CV/lib/python3.7/site-packages/tensorflow/python/framework/dtypes.py:518: FutureWarning: Passing (type, 1) or '1type' as a synonym of type is deprecated; in a future version of numpy, it will be understood as (type, (1,)) / '(1,)type'.\n",
      "  _np_qint16 = np.dtype([(\"qint16\", np.int16, 1)])\n",
      "/Users/Luyao/opt/anaconda3/envs/CV/lib/python3.7/site-packages/tensorflow/python/framework/dtypes.py:519: FutureWarning: Passing (type, 1) or '1type' as a synonym of type is deprecated; in a future version of numpy, it will be understood as (type, (1,)) / '(1,)type'.\n",
      "  _np_quint16 = np.dtype([(\"quint16\", np.uint16, 1)])\n",
      "/Users/Luyao/opt/anaconda3/envs/CV/lib/python3.7/site-packages/tensorflow/python/framework/dtypes.py:520: FutureWarning: Passing (type, 1) or '1type' as a synonym of type is deprecated; in a future version of numpy, it will be understood as (type, (1,)) / '(1,)type'.\n",
      "  _np_qint32 = np.dtype([(\"qint32\", np.int32, 1)])\n",
      "/Users/Luyao/opt/anaconda3/envs/CV/lib/python3.7/site-packages/tensorflow/python/framework/dtypes.py:525: FutureWarning: Passing (type, 1) or '1type' as a synonym of type is deprecated; in a future version of numpy, it will be understood as (type, (1,)) / '(1,)type'.\n",
      "  np_resource = np.dtype([(\"resource\", np.ubyte, 1)])\n",
      "/Users/Luyao/opt/anaconda3/envs/CV/lib/python3.7/site-packages/tensorboard/compat/tensorflow_stub/dtypes.py:541: FutureWarning: Passing (type, 1) or '1type' as a synonym of type is deprecated; in a future version of numpy, it will be understood as (type, (1,)) / '(1,)type'.\n",
      "  _np_qint8 = np.dtype([(\"qint8\", np.int8, 1)])\n",
      "/Users/Luyao/opt/anaconda3/envs/CV/lib/python3.7/site-packages/tensorboard/compat/tensorflow_stub/dtypes.py:542: FutureWarning: Passing (type, 1) or '1type' as a synonym of type is deprecated; in a future version of numpy, it will be understood as (type, (1,)) / '(1,)type'.\n",
      "  _np_quint8 = np.dtype([(\"quint8\", np.uint8, 1)])\n",
      "/Users/Luyao/opt/anaconda3/envs/CV/lib/python3.7/site-packages/tensorboard/compat/tensorflow_stub/dtypes.py:543: FutureWarning: Passing (type, 1) or '1type' as a synonym of type is deprecated; in a future version of numpy, it will be understood as (type, (1,)) / '(1,)type'.\n",
      "  _np_qint16 = np.dtype([(\"qint16\", np.int16, 1)])\n",
      "/Users/Luyao/opt/anaconda3/envs/CV/lib/python3.7/site-packages/tensorboard/compat/tensorflow_stub/dtypes.py:544: FutureWarning: Passing (type, 1) or '1type' as a synonym of type is deprecated; in a future version of numpy, it will be understood as (type, (1,)) / '(1,)type'.\n",
      "  _np_quint16 = np.dtype([(\"quint16\", np.uint16, 1)])\n",
      "/Users/Luyao/opt/anaconda3/envs/CV/lib/python3.7/site-packages/tensorboard/compat/tensorflow_stub/dtypes.py:545: FutureWarning: Passing (type, 1) or '1type' as a synonym of type is deprecated; in a future version of numpy, it will be understood as (type, (1,)) / '(1,)type'.\n",
      "  _np_qint32 = np.dtype([(\"qint32\", np.int32, 1)])\n",
      "/Users/Luyao/opt/anaconda3/envs/CV/lib/python3.7/site-packages/tensorboard/compat/tensorflow_stub/dtypes.py:550: FutureWarning: Passing (type, 1) or '1type' as a synonym of type is deprecated; in a future version of numpy, it will be understood as (type, (1,)) / '(1,)type'.\n",
      "  np_resource = np.dtype([(\"resource\", np.ubyte, 1)])\n"
     ]
    }
   ],
   "source": [
    "from data_generator import trainGenerator"
   ]
  },
  {
   "cell_type": "code",
   "execution_count": 7,
   "metadata": {},
   "outputs": [],
   "source": [
    "batch_size =2\n",
    "train_path = \"data/train\"\n",
    "image_folder =\"new_original_retinal_images\"\n",
    "mask_folder = \"new_masks_Hard_Exudates\"\n",
    "aug_dict = dict(rotation_range=0.2,\n",
    "                    width_shift_range=0.05,\n",
    "                    height_shift_range=0.05,\n",
    "                    shear_range=0.05,\n",
    "                    zoom_range=0.05,\n",
    "                    horizontal_flip=True,\n",
    "                    fill_mode='nearest')"
   ]
  },
  {
   "cell_type": "code",
   "execution_count": 8,
   "metadata": {},
   "outputs": [],
   "source": [
    "train_data = trainGenerator(batch_size,train_path,image_folder,mask_folder,aug_dict)"
   ]
  },
  {
   "cell_type": "code",
   "execution_count": null,
   "metadata": {},
   "outputs": [],
   "source": []
  },
  {
   "cell_type": "code",
   "execution_count": 9,
   "metadata": {},
   "outputs": [
    {
     "name": "stdout",
     "output_type": "stream",
     "text": [
      "Start path[data/test/original_retinal_images/] padding\n",
      "Finished path[data/test/original_retinal_images/] padding\n",
      "Start path[data/test/masks_Hard_Exudates/] padding\n",
      "Finished path[data/test/masks_Hard_Exudates/] padding\n"
     ]
    }
   ],
   "source": [
    "orig_path = \"data/test/original_retinal_images/\"\n",
    "new_orig_path = \"data/test/new_original_retinal_images/\"\n",
    "\n",
    "hard_path = \"data/test/masks_Hard_Exudates/\"\n",
    "new_hard_path = \"data/test/new_masks_Hard_Exudates/\"\n",
    "\n",
    "#padding original img\n",
    "padding_all(orig_path,new_orig_path)\n",
    "# padding hard img\n",
    "padding_all(hard_path,new_hard_path)"
   ]
  },
  {
   "cell_type": "code",
   "execution_count": 10,
   "metadata": {},
   "outputs": [
    {
     "name": "stdout",
     "output_type": "stream",
     "text": [
      "['IDRiD_55.jpg', 'IDRiD_56.jpg', 'IDRiD_57.jpg', 'IDRiD_58.jpg', 'IDRiD_59.jpg', 'IDRiD_60.jpg', 'IDRiD_61.jpg', 'IDRiD_62.jpg', 'IDRiD_63.jpg', 'IDRiD_64.jpg', 'IDRiD_65.jpg', 'IDRiD_66.jpg', 'IDRiD_67.jpg', 'IDRiD_68.jpg', 'IDRiD_69.jpg', 'IDRiD_70.jpg', 'IDRiD_71.jpg', 'IDRiD_72.jpg', 'IDRiD_73.jpg', 'IDRiD_74.jpg', 'IDRiD_75.jpg', 'IDRiD_76.jpg', 'IDRiD_77.jpg', 'IDRiD_78.jpg', 'IDRiD_79.jpg', 'IDRiD_80.jpg', 'IDRiD_81.jpg']\n",
      "['IDRiD_55_EX.tif', 'IDRiD_56_EX.tif', 'IDRiD_57_EX.tif', 'IDRiD_58_EX.tif', 'IDRiD_59_EX.tif', 'IDRiD_60_EX.tif', 'IDRiD_61_EX.tif', 'IDRiD_62_EX.tif', 'IDRiD_63_EX.tif', 'IDRiD_64_EX.tif', 'IDRiD_65_EX.tif', 'IDRiD_66_EX.tif', 'IDRiD_67_EX.tif', 'IDRiD_68_EX.tif', 'IDRiD_69_EX.tif', 'IDRiD_70_EX.tif', 'IDRiD_71_EX.tif', 'IDRiD_72_EX.tif', 'IDRiD_73_EX.tif', 'IDRiD_74_EX.tif', 'IDRiD_75_EX.tif', 'IDRiD_76_EX.tif', 'IDRiD_77_EX.tif', 'IDRiD_78_EX.tif', 'IDRiD_79_EX.tif', 'IDRiD_80_EX.tif', 'IDRiD_81_EX.tif']\n",
      "Finsihed Loading Test Data\n",
      "[TEST INFO]: Finished generating test data\n"
     ]
    }
   ],
   "source": [
    "from data_generator import trainGenerator, testGenerator\n",
    "import numpy as np\n",
    "test_image_path = \"data/test/new_original_retinal_images/\"\n",
    "test_label_path = \"data/test/new_masks_Hard_Exudates/\"\n",
    "img_size = (512,512)\n",
    "img_shape = (512,512,1)\n",
    "\n",
    "test_data = testGenerator(test_image_path,test_label_path,img_size,img_shape)\n",
    "print(\"[TEST INFO]: Finished generating test data\")\n",
    "# get the test data\n",
    "test_image = np.asarray(test_data[0])\n",
    "test_label = np.asarray(test_data[1])"
   ]
  },
  {
   "cell_type": "code",
   "execution_count": 11,
   "metadata": {},
   "outputs": [
    {
     "data": {
      "text/plain": [
       "(27, 512, 512, 1)"
      ]
     },
     "execution_count": 11,
     "metadata": {},
     "output_type": "execute_result"
    }
   ],
   "source": [
    "test_image.shape"
   ]
  },
  {
   "cell_type": "code",
   "execution_count": 12,
   "metadata": {},
   "outputs": [
    {
     "data": {
      "text/plain": [
       "(27, 512, 512, 1)"
      ]
     },
     "execution_count": 12,
     "metadata": {},
     "output_type": "execute_result"
    }
   ],
   "source": [
    "test_label.shape"
   ]
  },
  {
   "cell_type": "code",
   "execution_count": null,
   "metadata": {},
   "outputs": [],
   "source": []
  }
 ],
 "metadata": {
  "kernelspec": {
   "display_name": "Python 3",
   "language": "python",
   "name": "python3"
  },
  "language_info": {
   "codemirror_mode": {
    "name": "ipython",
    "version": 3
   },
   "file_extension": ".py",
   "mimetype": "text/x-python",
   "name": "python",
   "nbconvert_exporter": "python",
   "pygments_lexer": "ipython3",
   "version": "3.7.5"
  }
 },
 "nbformat": 4,
 "nbformat_minor": 2
}
